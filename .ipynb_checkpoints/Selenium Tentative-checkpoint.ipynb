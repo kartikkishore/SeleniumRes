{
 "cells": [
  {
   "cell_type": "markdown",
   "metadata": {},
   "source": [
    "<img src=\"https://pbs.twimg.com/profile_images/620117027689136129/-vYs_XqS_400x400.png\" height=\"200\" width=\"200\">\n",
    "\n",
    "# USING SELENIUM FOR WEB CRAWLING\n",
    "\n",
    "\n",
    "### About Selenium\n",
    "Selenium automates browsers. That's it! What you do with that power is entirely up to you. Primarily, it is for automating web applications for testing purposes, but is certainly not limited to just that.\n",
    "In our scenario we'll be using it's capability to harvest data from online resources.\n",
    "\n",
    "\n",
    "\n",
    "\n",
    "### Installation - Python package\n",
    "Selenium can by installed using the following commands via your terminal:\n",
    "#### - Anaconda Distribution\n",
    "- `conda install selenium`\n",
    "\n",
    "\n",
    "#### - Virtual Distribution\n",
    "- `pip3 install selenium`\n",
    "\n",
    "\n",
    "OR\n",
    "- `pip install selenium`\n",
    "\n",
    "### Installation - Browser drivers\n",
    "These are required to automate the browser - mechanism that runs the browsers according to the parameters specified by us. You can download the driver for any browser of your preference. Just make sure that the browser is already installed on your system.\n",
    "\n",
    "https://www.seleniumhq.org/download/\n",
    "\n",
    "\n",
    "\n",
    "Recommended drivers:\n",
    "1. Mozilla Firefox - https://github.com/mozilla/geckodriver/releases\n",
    "2. Google Chrome - https://sites.google.com/a/chromium.org/chromedriver/downloads\n",
    "\n",
    "### Basic Terminology:\n",
    "- XPATH - XPath uses path expressions to select nodes or node-sets in an XML document. This can vary for different browsers. Reference: https://www.w3schools.com/xml/xpath_intro.asp\n",
    "- CSS Selectors - In CSS, selectors are patterns used to select the element(s) you want to style. This remains the same for webpage. Reference: https://www.w3schools.com/cssref/css_selectors.asp\n",
    "\n",
    "### A few pointers:\n",
    "- Try exploring a webpage manually first, look for patterns and try to make your code as generic as possible.\n",
    "- The same webpage may behave different in different browsers."
   ]
  },
  {
   "cell_type": "code",
   "execution_count": 1,
   "metadata": {},
   "outputs": [],
   "source": [
    "from selenium import webdriver\n",
    "# OPTIONS: For configuring browser-driver setting\n",
    "from selenium.webdriver.firefox.options import Options"
   ]
  },
  {
   "cell_type": "markdown",
   "metadata": {},
   "source": [
    "### Exception Handling Configuration"
   ]
  },
  {
   "cell_type": "code",
   "execution_count": 2,
   "metadata": {},
   "outputs": [],
   "source": [
    "import selenium.common.exceptions\n",
    "from selenium.webdriver.common.by import By\n",
    "from selenium.webdriver.support import expected_conditions\n",
    "from selenium.webdriver.support.ui import WebDriverWait"
   ]
  },
  {
   "cell_type": "markdown",
   "metadata": {},
   "source": [
    "#### Playing around with Webdriver - UNIMELB"
   ]
  },
  {
   "cell_type": "code",
   "execution_count": 5,
   "metadata": {},
   "outputs": [
    {
     "name": "stdout",
     "output_type": "stream",
     "text": [
      "List of documents found: ['Lab and Workshop 1', 'Lab and Workshop 1 Solutions', 'Lab and Workshop 2', 'Lab and Workshop 2 Solutions', 'Lab and Workshop 3', 'Sample Lab Test', 'Sample Lab Test Solutions']\n",
      "['4294967297']\n",
      "Tabs available\n",
      "['4294967297', '4294967305']\n"
     ]
    },
    {
     "ename": "NoSuchElementException",
     "evalue": "Message: Unable to locate element: [id=\"download\"]\n",
     "output_type": "error",
     "traceback": [
      "\u001b[0;31m---------------------------------------------------------------------------\u001b[0m",
      "\u001b[0;31mNoSuchElementException\u001b[0m                    Traceback (most recent call last)",
      "\u001b[0;32m<ipython-input-5-951698543f7d>\u001b[0m in \u001b[0;36m<module>\u001b[0;34m()\u001b[0m\n\u001b[1;32m     59\u001b[0m     \u001b[0mbrowser\u001b[0m\u001b[0;34m.\u001b[0m\u001b[0mget\u001b[0m\u001b[0;34m(\u001b[0m\u001b[0mfile_url\u001b[0m\u001b[0;34m)\u001b[0m\u001b[0;34m\u001b[0m\u001b[0m\n\u001b[1;32m     60\u001b[0m     \u001b[0mbrowser\u001b[0m\u001b[0;34m.\u001b[0m\u001b[0mimplicitly_wait\u001b[0m\u001b[0;34m(\u001b[0m\u001b[0;36m5\u001b[0m\u001b[0;34m)\u001b[0m\u001b[0;34m\u001b[0m\u001b[0m\n\u001b[0;32m---> 61\u001b[0;31m     \u001b[0mbrowser\u001b[0m\u001b[0;34m.\u001b[0m\u001b[0mfind_element_by_id\u001b[0m\u001b[0;34m(\u001b[0m\u001b[0;34m'download'\u001b[0m\u001b[0;34m)\u001b[0m\u001b[0;34m.\u001b[0m\u001b[0mclick\u001b[0m\u001b[0;34m(\u001b[0m\u001b[0;34m)\u001b[0m\u001b[0;34m\u001b[0m\u001b[0m\n\u001b[0m\u001b[1;32m     62\u001b[0m \u001b[0;32melse\u001b[0m\u001b[0;34m:\u001b[0m\u001b[0;34m\u001b[0m\u001b[0m\n\u001b[1;32m     63\u001b[0m     \u001b[0mprint\u001b[0m\u001b[0;34m(\u001b[0m\u001b[0;34m'Tabs not found'\u001b[0m\u001b[0;34m)\u001b[0m\u001b[0;34m\u001b[0m\u001b[0m\n",
      "\u001b[0;32m/anaconda3/lib/python3.6/site-packages/selenium/webdriver/remote/webdriver.py\u001b[0m in \u001b[0;36mfind_element_by_id\u001b[0;34m(self, id_)\u001b[0m\n\u001b[1;32m    357\u001b[0m             \u001b[0melement\u001b[0m \u001b[0;34m=\u001b[0m \u001b[0mdriver\u001b[0m\u001b[0;34m.\u001b[0m\u001b[0mfind_element_by_id\u001b[0m\u001b[0;34m(\u001b[0m\u001b[0;34m'foo'\u001b[0m\u001b[0;34m)\u001b[0m\u001b[0;34m\u001b[0m\u001b[0m\n\u001b[1;32m    358\u001b[0m         \"\"\"\n\u001b[0;32m--> 359\u001b[0;31m         \u001b[0;32mreturn\u001b[0m \u001b[0mself\u001b[0m\u001b[0;34m.\u001b[0m\u001b[0mfind_element\u001b[0m\u001b[0;34m(\u001b[0m\u001b[0mby\u001b[0m\u001b[0;34m=\u001b[0m\u001b[0mBy\u001b[0m\u001b[0;34m.\u001b[0m\u001b[0mID\u001b[0m\u001b[0;34m,\u001b[0m \u001b[0mvalue\u001b[0m\u001b[0;34m=\u001b[0m\u001b[0mid_\u001b[0m\u001b[0;34m)\u001b[0m\u001b[0;34m\u001b[0m\u001b[0m\n\u001b[0m\u001b[1;32m    360\u001b[0m \u001b[0;34m\u001b[0m\u001b[0m\n\u001b[1;32m    361\u001b[0m     \u001b[0;32mdef\u001b[0m \u001b[0mfind_elements_by_id\u001b[0m\u001b[0;34m(\u001b[0m\u001b[0mself\u001b[0m\u001b[0;34m,\u001b[0m \u001b[0mid_\u001b[0m\u001b[0;34m)\u001b[0m\u001b[0;34m:\u001b[0m\u001b[0;34m\u001b[0m\u001b[0m\n",
      "\u001b[0;32m/anaconda3/lib/python3.6/site-packages/selenium/webdriver/remote/webdriver.py\u001b[0m in \u001b[0;36mfind_element\u001b[0;34m(self, by, value)\u001b[0m\n\u001b[1;32m    964\u001b[0m         return self.execute(Command.FIND_ELEMENT, {\n\u001b[1;32m    965\u001b[0m             \u001b[0;34m'using'\u001b[0m\u001b[0;34m:\u001b[0m \u001b[0mby\u001b[0m\u001b[0;34m,\u001b[0m\u001b[0;34m\u001b[0m\u001b[0m\n\u001b[0;32m--> 966\u001b[0;31m             'value': value})['value']\n\u001b[0m\u001b[1;32m    967\u001b[0m \u001b[0;34m\u001b[0m\u001b[0m\n\u001b[1;32m    968\u001b[0m     \u001b[0;32mdef\u001b[0m \u001b[0mfind_elements\u001b[0m\u001b[0;34m(\u001b[0m\u001b[0mself\u001b[0m\u001b[0;34m,\u001b[0m \u001b[0mby\u001b[0m\u001b[0;34m=\u001b[0m\u001b[0mBy\u001b[0m\u001b[0;34m.\u001b[0m\u001b[0mID\u001b[0m\u001b[0;34m,\u001b[0m \u001b[0mvalue\u001b[0m\u001b[0;34m=\u001b[0m\u001b[0;32mNone\u001b[0m\u001b[0;34m)\u001b[0m\u001b[0;34m:\u001b[0m\u001b[0;34m\u001b[0m\u001b[0m\n",
      "\u001b[0;32m/anaconda3/lib/python3.6/site-packages/selenium/webdriver/remote/webdriver.py\u001b[0m in \u001b[0;36mexecute\u001b[0;34m(self, driver_command, params)\u001b[0m\n\u001b[1;32m    318\u001b[0m         \u001b[0mresponse\u001b[0m \u001b[0;34m=\u001b[0m \u001b[0mself\u001b[0m\u001b[0;34m.\u001b[0m\u001b[0mcommand_executor\u001b[0m\u001b[0;34m.\u001b[0m\u001b[0mexecute\u001b[0m\u001b[0;34m(\u001b[0m\u001b[0mdriver_command\u001b[0m\u001b[0;34m,\u001b[0m \u001b[0mparams\u001b[0m\u001b[0;34m)\u001b[0m\u001b[0;34m\u001b[0m\u001b[0m\n\u001b[1;32m    319\u001b[0m         \u001b[0;32mif\u001b[0m \u001b[0mresponse\u001b[0m\u001b[0;34m:\u001b[0m\u001b[0;34m\u001b[0m\u001b[0m\n\u001b[0;32m--> 320\u001b[0;31m             \u001b[0mself\u001b[0m\u001b[0;34m.\u001b[0m\u001b[0merror_handler\u001b[0m\u001b[0;34m.\u001b[0m\u001b[0mcheck_response\u001b[0m\u001b[0;34m(\u001b[0m\u001b[0mresponse\u001b[0m\u001b[0;34m)\u001b[0m\u001b[0;34m\u001b[0m\u001b[0m\n\u001b[0m\u001b[1;32m    321\u001b[0m             response['value'] = self._unwrap_value(\n\u001b[1;32m    322\u001b[0m                 response.get('value', None))\n",
      "\u001b[0;32m/anaconda3/lib/python3.6/site-packages/selenium/webdriver/remote/errorhandler.py\u001b[0m in \u001b[0;36mcheck_response\u001b[0;34m(self, response)\u001b[0m\n\u001b[1;32m    240\u001b[0m                 \u001b[0malert_text\u001b[0m \u001b[0;34m=\u001b[0m \u001b[0mvalue\u001b[0m\u001b[0;34m[\u001b[0m\u001b[0;34m'alert'\u001b[0m\u001b[0;34m]\u001b[0m\u001b[0;34m.\u001b[0m\u001b[0mget\u001b[0m\u001b[0;34m(\u001b[0m\u001b[0;34m'text'\u001b[0m\u001b[0;34m)\u001b[0m\u001b[0;34m\u001b[0m\u001b[0m\n\u001b[1;32m    241\u001b[0m             \u001b[0;32mraise\u001b[0m \u001b[0mexception_class\u001b[0m\u001b[0;34m(\u001b[0m\u001b[0mmessage\u001b[0m\u001b[0;34m,\u001b[0m \u001b[0mscreen\u001b[0m\u001b[0;34m,\u001b[0m \u001b[0mstacktrace\u001b[0m\u001b[0;34m,\u001b[0m \u001b[0malert_text\u001b[0m\u001b[0;34m)\u001b[0m\u001b[0;34m\u001b[0m\u001b[0m\n\u001b[0;32m--> 242\u001b[0;31m         \u001b[0;32mraise\u001b[0m \u001b[0mexception_class\u001b[0m\u001b[0;34m(\u001b[0m\u001b[0mmessage\u001b[0m\u001b[0;34m,\u001b[0m \u001b[0mscreen\u001b[0m\u001b[0;34m,\u001b[0m \u001b[0mstacktrace\u001b[0m\u001b[0;34m)\u001b[0m\u001b[0;34m\u001b[0m\u001b[0m\n\u001b[0m\u001b[1;32m    243\u001b[0m \u001b[0;34m\u001b[0m\u001b[0m\n\u001b[1;32m    244\u001b[0m     \u001b[0;32mdef\u001b[0m \u001b[0m_value_or_default\u001b[0m\u001b[0;34m(\u001b[0m\u001b[0mself\u001b[0m\u001b[0;34m,\u001b[0m \u001b[0mobj\u001b[0m\u001b[0;34m,\u001b[0m \u001b[0mkey\u001b[0m\u001b[0;34m,\u001b[0m \u001b[0mdefault\u001b[0m\u001b[0;34m)\u001b[0m\u001b[0;34m:\u001b[0m\u001b[0;34m\u001b[0m\u001b[0m\n",
      "\u001b[0;31mNoSuchElementException\u001b[0m: Message: Unable to locate element: [id=\"download\"]\n"
     ]
    }
   ],
   "source": [
    "# Firefox configuration\n",
    "options = Options()\n",
    "# options.add_argument('-headless')\n",
    "browser = webdriver.Firefox(executable_path='/Users/k/PycharmProjects/Tels/geckodriver', firefox_options=options)\n",
    "\n",
    "browser.maximize_window()\n",
    "\n",
    "browser.get('https://app.lms.unimelb.edu.au/webapps/portal/execute/tabs/tabAction?tab_tab_group_id=_41_1')\n",
    "browser.implicitly_wait(20) # implicity_wait: Waiting for the page to load properly\n",
    "\n",
    "# Login Module\n",
    "username = browser.find_element_by_id('user_id')\n",
    "password = browser.find_element_by_id('password')\n",
    "username.send_keys('kkishore')\n",
    "password.send_keys('Tangent117')\n",
    "browser.find_element_by_id('entry-login').click()\n",
    "browser.implicitly_wait(10)\n",
    "\n",
    "# Exploring the webpage\n",
    "all_subjects = browser.find_element_by_css_selector('.coursefakeclass')\n",
    "items = all_subjects.find_elements_by_tag_name('li')\n",
    "semester2 = [] # To store name of all subjects available for a student\n",
    "\n",
    "# Finding current semester subjects: which have SM2 in their text and storing them in semester2 list\n",
    "for i in items:\n",
    "    if i.text.__contains__('SM2'):\n",
    "        semester2.append(i)\n",
    "\n",
    "# Exploring the first found subject\n",
    "semester2[0].click()\n",
    "\n",
    "# I want to download all lecture slides and textual material present for that subject - In this case it was listed under documents tab\n",
    "browser.find_element_by_link_text('Documents').click()\n",
    "browser.implicitly_wait(5)\n",
    "browser.find_element_by_link_text('Labs and Workshops').click()\n",
    "\n",
    "# Now inside the directory structure of Subject -> Labs & Workshops -> Contents\n",
    "# We will now try to iterate through the contents which is a list as per the html source\n",
    "docdump = browser.find_element_by_id('content_listContainer')\n",
    "docslist = docdump.find_elements_by_tag_name('li')\n",
    "\n",
    "# Generic approach - try to list down the list values and then we can find it by link_text functionality\n",
    "documents = []\n",
    "for document in docslist:\n",
    "    documents.append(str(document.text))\n",
    "print('List of documents found: ' + str(documents))\n",
    "\n",
    "# Opening the first found document\n",
    "browser.find_element_by_link_text(documents[0]).click()\n",
    "browser.implicitly_wait(10)\n",
    "\n",
    "# Check number of tabs available\n",
    "print(browser.window_handles)\n",
    "if len(browser.window_handles) == 2:\n",
    "    print('Tabs available')\n",
    "    print(browser.window_handles)\n",
    "    browser.switch_to.window(browser.window_handles[1])\n",
    "    file_url = str(browser.current_url)\n",
    "    browser.get(file_url)\n",
    "    browser.implicitly_wait(5)\n",
    "    browser.find_element_by_id('download').click()\n",
    "else:\n",
    "    print('Tabs not found')"
   ]
  },
  {
   "cell_type": "code",
   "execution_count": null,
   "metadata": {},
   "outputs": [],
   "source": [
    "# JS Scrolling\n",
    "browser.execute_script(\"window.scrollTo(0, document.body.scrollHeight);\")"
   ]
  },
  {
   "cell_type": "code",
   "execution_count": null,
   "metadata": {},
   "outputs": [],
   "source": [
    "# Waiting for an element to get activated or some object to become accessible\n",
    "try:\n",
    "    # What you want from the browser window - XPATH, CSS SELECTOR\n",
    "    wait.until(expected_conditions.visibility_of_element_located((By.ID, 'orderSearchForm_orderNumber')))\n",
    "except Exception:\n",
    "    # How you want to handle the error - Better to write small snippets of try and\n",
    "    # except so that you can control browser behaviour for different scenarios"
   ]
  },
  {
   "cell_type": "code",
   "execution_count": null,
   "metadata": {},
   "outputs": [],
   "source": [
    "# Taking a screenshot\n",
    "brows"
   ]
  }
 ],
 "metadata": {
  "kernelspec": {
   "display_name": "Python 3",
   "language": "python",
   "name": "python3"
  },
  "language_info": {
   "codemirror_mode": {
    "name": "ipython",
    "version": 3
   },
   "file_extension": ".py",
   "mimetype": "text/x-python",
   "name": "python",
   "nbconvert_exporter": "python",
   "pygments_lexer": "ipython3",
   "version": "3.6.5"
  }
 },
 "nbformat": 4,
 "nbformat_minor": 2
}
