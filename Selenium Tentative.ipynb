{
 "cells": [
  {
   "cell_type": "markdown",
   "metadata": {},
   "source": [
    "# USING SELENIUM FOR WEB CRAWLING\n",
    "\n",
    "\n",
    "### About Selenium\n",
    "Selenium automates browsers. That's it! What you do with that power is entirely up to you. Primarily, it is for automating web applications for testing purposes, but is certainly not limited to just that.\n",
    "In our scenario we'll be using it's capability to harvest data from online resources.\n",
    "\n",
    "\n",
    "\n",
    "\n",
    "### Installation - Python package\n",
    "Selenium can by installed using the following commands via your terminal:\n",
    "#### - Anaconda Distribution\n",
    "- `conda install selenium`\n",
    "\n",
    "\n",
    "#### - Virtual Distribution\n",
    "- `pip3 install selenium`\n",
    "\n",
    "\n",
    "OR\n",
    "- `pip install selenium`\n",
    "\n",
    "### Installation - Browser drivers\n",
    "These are required to automate the browser - mechanism that runs the browsers according to the parameters specified by us. You can download the driver for any browser of your preference. Just make sure that the browser is already installed on your system.\n",
    "\n",
    "https://www.seleniumhq.org/download/\n",
    "\n",
    "\n",
    "\n",
    "Recommended drivers:\n",
    "1. Mozilla Firefox - https://github.com/mozilla/geckodriver/releases\n",
    "2. Google Chrome - https://sites.google.com/a/chromium.org/chromedriver/downloads"
   ]
  },
  {
   "cell_type": "code",
   "execution_count": 5,
   "metadata": {},
   "outputs": [],
   "source": [
    "from selenium import webdriver\n",
    "# OPTIONS: For configuring browser-driver setting\n",
    "from selenium.webdriver.firefox.options import Options"
   ]
  },
  {
   "cell_type": "markdown",
   "metadata": {},
   "source": [
    "### Exception Handling Configuration"
   ]
  },
  {
   "cell_type": "code",
   "execution_count": 6,
   "metadata": {},
   "outputs": [],
   "source": [
    "import selenium.common.exceptions\n",
    "from selenium.webdriver.common.by import By\n",
    "from selenium.webdriver.support import expected_conditions\n",
    "from selenium.webdriver.support.ui import WebDriverWait"
   ]
  },
  {
   "cell_type": "markdown",
   "metadata": {},
   "source": [
    "#### Playing around with Webdriver"
   ]
  },
  {
   "cell_type": "code",
   "execution_count": 25,
   "metadata": {},
   "outputs": [],
   "source": [
    "# Firefox\n",
    "options = Options()\n",
    "# options.add_argument('-headless')\n",
    "browser = webdriver.Firefox(executable_path='/Users/k/PycharmProjects/Tels/geckodriver', firefox_options=options)\n",
    "\n",
    "browser.maximize_window()\n",
    "browser.get('https://twitter.com/login/')"
   ]
  },
  {
   "cell_type": "code",
   "execution_count": 26,
   "metadata": {},
   "outputs": [],
   "source": [
    "# Login Module\n",
    "username = browser.find_element_by_xpath('/html/body/div[1]/div[2]/div/div/div[1]/form/fieldset/div[1]/input')\n",
    "password = browser.find_element_by_xpath('/html/body/div[1]/div[2]/div/div/div[1]/form/fieldset/div[2]/input')\n",
    "username.send_keys('YOUR USERNAME')\n",
    "password.send_keys('YOUR PASSWORD')\n",
    "browser.find_element_by_xpath('/html/body/div[1]/div[2]/div/div/div[1]/form/div[2]/button').click()"
   ]
  },
  {
   "cell_type": "code",
   "execution_count": 27,
   "metadata": {},
   "outputs": [],
   "source": [
    "# JS Scrolling\n",
    "browser.execute_script(\"window.scrollTo(0, document.body.scrollHeight);\")"
   ]
  },
  {
   "cell_type": "code",
   "execution_count": null,
   "metadata": {},
   "outputs": [],
   "source": [
    "# Waiting for an element to get activated or some object to become accessible\n",
    "wait = WebDriverWait(driver, 20)\n",
    "try:\n",
    "    # What you want from the browser window - XPATH, CSS SELECTOR\n",
    "    wait.until(expected_conditions.visibility_of_element_located((By.ID, 'orderSearchForm_orderNumber')))\n",
    "except Exception:\n",
    "    # How you want to handle the error - Better to write small snippets of try and\n",
    "    # except so that you can control browser behaviour for different scenarios"
   ]
  }
 ],
 "metadata": {
  "kernelspec": {
   "display_name": "Python 3",
   "language": "python",
   "name": "python3"
  },
  "language_info": {
   "codemirror_mode": {
    "name": "ipython",
    "version": 3
   },
   "file_extension": ".py",
   "mimetype": "text/x-python",
   "name": "python",
   "nbconvert_exporter": "python",
   "pygments_lexer": "ipython3",
   "version": "3.6.5"
  }
 },
 "nbformat": 4,
 "nbformat_minor": 2
}
