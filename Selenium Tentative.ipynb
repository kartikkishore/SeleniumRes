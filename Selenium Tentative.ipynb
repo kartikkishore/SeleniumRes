{
 "cells": [
  {
   "cell_type": "markdown",
   "metadata": {},
   "source": [
    "<img src=\"https://pbs.twimg.com/profile_images/620117027689136129/-vYs_XqS_400x400.png\" height=\"200\" width=\"200\">\n",
    "\n",
    "# USING SELENIUM FOR WEB CRAWLING\n",
    "\n",
    "\n",
    "### About Selenium\n",
    "Selenium automates browsers. That's it! What you do with that power is entirely up to you. Primarily, it is for automating web applications for testing purposes, but is certainly not limited to just that.\n",
    "In our scenario we'll be using it's capability to harvest data from online resources.\n",
    "\n",
    "\n",
    "\n",
    "\n",
    "### Installation - Python package\n",
    "Selenium can by installed using the following commands via your terminal:\n",
    "#### - Anaconda Distribution\n",
    "- `conda install selenium`\n",
    "\n",
    "\n",
    "#### - Virtual Distribution\n",
    "- `pip3 install selenium`\n",
    "\n",
    "\n",
    "OR\n",
    "- `pip install selenium`\n",
    "\n",
    "### Installation - Browser drivers\n",
    "These are required to automate the browser - mechanism that runs the browsers according to the parameters specified by us. You can download the driver for any browser of your preference. Just make sure that the browser is already installed on your system.\n",
    "\n",
    "https://www.seleniumhq.org/download/\n",
    "\n",
    "\n",
    "\n",
    "Recommended drivers:\n",
    "1. Mozilla Firefox - https://github.com/mozilla/geckodriver/releases\n",
    "2. Google Chrome - https://sites.google.com/a/chromium.org/chromedriver/downloads"
   ]
  },
  {
   "cell_type": "code",
   "execution_count": 86,
   "metadata": {},
   "outputs": [],
   "source": [
    "from selenium import webdriver\n",
    "# OPTIONS: For configuring browser-driver setting\n",
    "from selenium.webdriver.firefox.options import Options"
   ]
  },
  {
   "cell_type": "code",
   "execution_count": null,
   "metadata": {},
   "outputs": [],
   "source": []
  },
  {
   "cell_type": "markdown",
   "metadata": {},
   "source": [
    "### Exception Handling Configuration"
   ]
  },
  {
   "cell_type": "code",
   "execution_count": 88,
   "metadata": {},
   "outputs": [],
   "source": [
    "import selenium.common.exceptions\n",
    "from selenium.webdriver.common.by import By\n",
    "from selenium.webdriver.support import expected_conditions\n",
    "from selenium.webdriver.support.ui import WebDriverWait"
   ]
  },
  {
   "cell_type": "markdown",
   "metadata": {},
   "source": [
    "#### Playing around with Webdriver - UNIMELB"
   ]
  },
  {
   "cell_type": "code",
   "execution_count": 99,
   "metadata": {},
   "outputs": [
    {
     "name": "stdout",
     "output_type": "stream",
     "text": [
      "['4294967297', '4294967305']\n"
     ]
    }
   ],
   "source": [
    "# Firefox\n",
    "options = Options()\n",
    "# options.add_argument('-headless')\n",
    "browser = webdriver.Firefox(executable_path='/Users/k/PycharmProjects/Tels/geckodriver', firefox_options=options)\n",
    "\n",
    "browser.maximize_window()\n",
    "\n",
    "browser.get('https://app.lms.unimelb.edu.au/webapps/portal/execute/tabs/tabAction?tab_tab_group_id=_41_1')\n",
    "browser.implicitly_wait(20) # Waiting for the page to load properly\n",
    "\n",
    "# Login Module\n",
    "username = browser.find_element_by_id('user_id')\n",
    "password = browser.find_element_by_id('password')\n",
    "username.send_keys('kkishore')\n",
    "password.send_keys('Tangent117')\n",
    "browser.find_element_by_id('entry-login').click()\n",
    "browser.implicitly_wait(10)\n",
    "\n",
    "# Exploring the webpage\n",
    "html_list = browser.find_element_by_css_selector('.coursefakeclass')\n",
    "items = html_list.find_elements_by_tag_name('li')\n",
    "semester2 = []\n",
    "for i in items:\n",
    "    if i.text.__contains__('SM2'):\n",
    "        semester2.append(i)\n",
    "semester2[0].click()\n",
    "browser.find_element_by_link_text('Documents').click()\n",
    "browser.implicitly_wait(5)\n",
    "browser.find_element_by_link_text('Labs and Workshops').click()\n",
    "\n",
    "doclist = browser.find_element_by_id('content_listContainer')\n",
    "docs = doclist.find_elements_by_tag_name('li')\n",
    "documents = []\n",
    "for d in docs:\n",
    "    documents.append(str(d.text))\n",
    "browser.find_element_by_link_text(documents[0]).click()\n",
    "browser.implicitly_wait(10)\n",
    "print(browser.window_handles)\n",
    "browser.switch_to.window(browser.window_handles[1])\n",
    "file_url = str(browser.current_url)\n",
    "browser.get(file_url)\n",
    "browser.implicitly_wait(5)\n",
    "browser.find_element_by_id('download').click()"
   ]
  },
  {
   "cell_type": "code",
   "execution_count": null,
   "metadata": {},
   "outputs": [],
   "source": [
    "# JS Scrolling\n",
    "browser.execute_script(\"window.scrollTo(0, document.body.scrollHeight);\")"
   ]
  },
  {
   "cell_type": "code",
   "execution_count": null,
   "metadata": {},
   "outputs": [],
   "source": [
    "# Waiting for an element to get activated or some object to become accessible\n",
    "try:\n",
    "    # What you want from the browser window - XPATH, CSS SELECTOR\n",
    "    wait.until(expected_conditions.visibility_of_element_located((By.ID, 'orderSearchForm_orderNumber')))\n",
    "except Exception:\n",
    "    # How you want to handle the error - Better to write small snippets of try and\n",
    "    # except so that you can control browser behaviour for different scenarios"
   ]
  },
  {
   "cell_type": "code",
   "execution_count": null,
   "metadata": {},
   "outputs": [],
   "source": [
    "# Taking a screenshot\n",
    "brows"
   ]
  }
 ],
 "metadata": {
  "kernelspec": {
   "display_name": "Python 3",
   "language": "python",
   "name": "python3"
  },
  "language_info": {
   "codemirror_mode": {
    "name": "ipython",
    "version": 3
   },
   "file_extension": ".py",
   "mimetype": "text/x-python",
   "name": "python",
   "nbconvert_exporter": "python",
   "pygments_lexer": "ipython3",
   "version": "3.6.5"
  }
 },
 "nbformat": 4,
 "nbformat_minor": 2
}
